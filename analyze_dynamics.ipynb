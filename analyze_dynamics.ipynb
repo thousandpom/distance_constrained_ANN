{
 "cells": [
  {
   "cell_type": "markdown",
   "metadata": {},
   "source": [
    "## Overview\n",
    "This script contains the source code for analyzing the dynamics of the trained RNN model on a 3-bit memory task. Users need to install necessary libraries and initialize the inference before creating figures.\n",
    "\n",
    "In all functions:\n",
    "* $\\beta=0.0$ indicates an $L^p$ regularized model\n",
    "* $\\beta=1.0$ indicates a distance-constrained model\n",
    "\n",
    "Relevant to [Fig. A.2](#fps)"
   ]
  },
  {
   "cell_type": "markdown",
   "metadata": {},
   "source": [
    "### Libraries required to run the script"
   ]
  },
  {
   "cell_type": "code",
   "execution_count": 1,
   "metadata": {},
   "outputs": [],
   "source": [
    "import sys\n",
    "import os\n",
    "import numpy as np\n",
    "\n",
    "import torch\n",
    "import matplotlib.pyplot as plt\n",
    "\n",
    "from model import ConstrainedModel\n",
    "import utils\n",
    "import random\n",
    "\n",
    "from sklearn.decomposition import PCA\n",
    "import matplotlib.pyplot as plt\n",
    "import matplotlib\n",
    "from mpl_toolkits.mplot3d import Axes3D\n",
    "from generate_input import get_data"
   ]
  },
  {
   "cell_type": "code",
   "execution_count": null,
   "metadata": {},
   "outputs": [],
   "source": [
    "json_path = os.path.join(os.getcwd(), \"hps.json\")\n",
    "assert os.path.isfile(\n",
    "    json_path\n",
    "), \"No json configuration file found at {}\".format(json_path)\n",
    "hps = utils.Params(json_path)"
   ]
  },
  {
   "cell_type": "markdown",
   "metadata": {},
   "source": [
    "### Generates a sequence of static inputs\n",
    "Static inputs are required to understand different structures output by PCA."
   ]
  },
  {
   "cell_type": "code",
   "execution_count": 2,
   "metadata": {},
   "outputs": [],
   "source": [
    "def get_static_inputs(time_steps, n_samples, inputs=None):\n",
    "    # No inputs\n",
    "    if inputs==None:  \n",
    "        inputs = torch.tensor(np.tile(np.zeros([1, 3], dtype=int), (time_steps, 1)))\n",
    "    else:\n",
    "        inputs_seq = np.tile(np.array(inputs, dtype=int), (n_samples, 1))\n",
    "        inputs_fill = np.tile(np.zeros([1, 3], dtype=int), (time_steps-n_samples,1))\n",
    "        inputs = torch.tensor(np.concatenate([inputs_seq, inputs_fill], axis=0))\n",
    "    \n",
    "    return inputs.unsqueeze(0)"
   ]
  },
  {
   "cell_type": "markdown",
   "metadata": {},
   "source": [
    "### Find fixed points of the network"
   ]
  },
  {
   "cell_type": "code",
   "execution_count": 3,
   "metadata": {},
   "outputs": [],
   "source": [
    "def get_fps_states(hidden_size, inputs=[[1,1,1],[1,-1,1],[1,-1,-1],[-1,1,1],[-1,-1,1],[-1,-1,-1],[-1,1,-1],[1,1,-1]], n_samples=5, time_steps=20):\n",
    "    fps_states = []\n",
    "    for idx in range(0, len(inputs)):\n",
    "        inputs_seq = np.tile(np.array(inputs[idx], dtype=int), (n_samples, 1))\n",
    "        inputs_fill = np.tile(np.zeros([1, 3], dtype=int), (time_steps-n_samples,1))\n",
    "        static_inputs = torch.tensor(np.concatenate([inputs_seq, inputs_fill], axis=0)).unsqueeze(0)\n",
    "        static_inputs = static_inputs.float()\n",
    "        \n",
    "        hidden = torch.distributions.normal.Normal(loc=0.0, scale=1.0).sample([1,1,hps.hidden_size])\n",
    "        _, _, hidden = model(static_inputs, hidden)\n",
    "        hidden = hidden.squeeze()\n",
    "        fps_states.append(hidden.detach().numpy())\n",
    "    fps_states = np.stack(fps_states)\n",
    "    return fps_states\n",
    "\n",
    "def get_state_progression(pca, pca_hidden_sample, inputs=None):\n",
    "    if inputs:\n",
    "        raise NotImplementedError()\n",
    "    static_inputs = get_static_inputs(time_steps=1, n_samples=1).float()\n",
    "    pca_hidden_sample = pca_hidden_sample.reshape(1, -1)\n",
    "    \n",
    "    hidden = pca.inverse_transform(pca_hidden_sample)\n",
    "    hidden = torch.tensor(hidden).unsqueeze(0).float()\n",
    "\n",
    "    _, _, hidden = model(static_inputs, hidden)\n",
    "    hidden = hidden.squeeze().detach().numpy()\n",
    "    return pca.transform(hidden.reshape(1,-1))"
   ]
  },
  {
   "cell_type": "markdown",
   "metadata": {},
   "source": [
    "<a id=\"fps\"></a>"
   ]
  },
  {
   "cell_type": "markdown",
   "metadata": {},
   "source": [
    "### [Set up inputs for state trajectory projections with fixed points](#fps)\n",
    "``` state_traj_fps()``` performs principal componenet analysis on activation states of all hidden nodes, and reduce the dimensionality into 3D. Eight fixed points are noted as red dots in the figure.\n",
    "\n",
    "This function does not require any inputs, as it will generate a random sequence of inputs with three chanels and each chanel can be +/-1 or zero, (e.g. [[1, 0, -1], [-1, -1, 1]]).  "
   ]
  },
  {
   "cell_type": "code",
   "execution_count": 4,
   "metadata": {},
   "outputs": [],
   "source": [
    "def state_traj_fps(hps, ckpt_path, beta, seed, alpha, time_steps=1, n_samples=0, inputs=None, plot_sample_size=1):\n",
    "    model = ConstrainedModel(hps.n_bits, hps.hidden_size, hps.n_bits, hps.n_spatial_dims, hps.norm)\n",
    "    ckpt_path = f'./trial{hps.trial}/seed{seed}trained_model/alpha_{alpha}_beta_{b}/checkpoints/last.pth'\n",
    "    print(f'Load model from: {ckpt_path}')\n",
    "    ckpt = utils.load_checkpoint(ckpt_path, model)\n",
    "    fps_states = get_fps_states(hps.hidden_size)\n",
    "\n",
    "    test_loader, _ = get_data(hps)\n",
    "    \n",
    "    hidden_states = []\n",
    "    for idx, data in enumerate(test_loader):\n",
    "        inputs_seq, _ = data\n",
    "        inputs_fill = np.tile(np.zeros([1, 3], dtype=int), (512, time_steps-n_samples,1))\n",
    "        inputs = torch.tensor(np.concatenate([inputs_seq, inputs_fill], axis=1))\n",
    "        inputs= inputs.float()\n",
    "        hidden = torch.distributions.normal.Normal(loc=0.0, scale=1.0).sample([1,hps.batch_size,hps.hidden_size])\n",
    "        hidden_state, _, _ = model(inputs, hidden)\n",
    "        hidden_states.append(hidden_state.detach())\n",
    "    hidden_states = np.vstack(hidden_states)\n",
    "    [n_batch, n_time, n_states] = hidden_states.shape\n",
    "    \n",
    "    # Train PCA with hidden_states\n",
    "    pca = PCA(n_components=3)\n",
    "    state_traj = np.reshape(hidden_states, (n_batch * n_time, n_states))\n",
    "    pca.fit(state_traj)\n",
    "    \n",
    "    \n",
    "    fps = pca.transform(fps_states)\n",
    "\n",
    "    fig = plt.figure(figsize=(10, 8))\n",
    "    ax = fig.add_subplot(111,projection=\"3d\")\n",
    "    ax.set_xlabel(\"PC 1\", fontweight=3.5)\n",
    "    ax.set_zlabel(\"PC 3\", fontweight=3.5)\n",
    "    ax.set_ylabel(\"PC 2\", fontweight=3.5)\n",
    "    \n",
    "    plot_sample_size = range(plot_sample_size)\n",
    "    for batch_idx in plot_sample_size:\n",
    "        hidden_state_idx = hidden_states[batch_idx]\n",
    "        # Transforms data from (64, 16) to (64, 3) --> reduce dimensionality\n",
    "        z = pca.transform(hidden_state_idx[range(0, n_time), :])\n",
    "        ax.plot(z[:, 0], z[:, 1], z[:, 2], color=\"k\", linewidth=0.2, alpha=0.1)\n",
    "    ax.scatter(fps[:,0], fps[:,1], fps[:,2], color='r')\n",
    "    print(fps[:,0], fps[:,1], fps[:,2])\n",
    "#     ax.view_init(45, 80)\n",
    "    fig.savefig(f'seed{seed}_alpha{alpha}_beta{beta}_fps_traj_inputs.png', dpi=400, bbox_inches='tight')\n",
    "    plt.show()"
   ]
  }
 ],
 "metadata": {
  "kernelspec": {
   "display_name": "Python 3",
   "language": "python",
   "name": "python3"
  },
  "language_info": {
   "codemirror_mode": {
    "name": "ipython",
    "version": 3
   },
   "file_extension": ".py",
   "mimetype": "text/x-python",
   "name": "python",
   "nbconvert_exporter": "python",
   "pygments_lexer": "ipython3",
   "version": "3.7.1"
  }
 },
 "nbformat": 4,
 "nbformat_minor": 2
}
