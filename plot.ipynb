{
 "cells": [
  {
   "cell_type": "markdown",
   "metadata": {},
   "source": [
    "## Overview\n",
    "This script contains the source code for generating figures used in ```NSCMasterThesis_XinyueYao.pdf``` to demonstrate results of a fully connected neural network. Users need to install necessary libraries and initialize the inference before creating figures.\n",
    "\n",
    "In all functions:\n",
    "* $\\beta=0.0$ indicates an $L^p$ regularized model\n",
    "* $\\beta=1.0$ indicates a distance-constrained model\n",
    "\n",
    "\n",
    "Relevant figures are:\n",
    "* [Fig. 3.1](#wd)\n",
    "* [Fig. 3.2](#acc)\n",
    "* [Fig. A.1](#conn)"
   ]
  },
  {
   "cell_type": "markdown",
   "metadata": {},
   "source": [
    "### Libraries required to run the script"
   ]
  },
  {
   "cell_type": "code",
   "execution_count": 1,
   "metadata": {},
   "outputs": [],
   "source": [
    "import torch\n",
    "import numpy as np\n",
    "from glob import glob\n",
    "import matplotlib\n",
    "import matplotlib.pyplot as plt\n",
    "from mpl_toolkits.mplot3d import Axes3D\n",
    "\n",
    "import os\n",
    "%matplotlib notebook\n",
    "from matplotlib.ticker import (MultipleLocator)\n",
    "\n",
    "from pathlib import Path\n",
    "\n",
    "import utils\n",
    "from train import NeuralNet as cm \n",
    "\n",
    "from scipy.optimize import curve_fit\n",
    "from scipy import stats\n",
    "\n",
    "from matplotlib.ticker import (MultipleLocator, FormatStrFormatter, AutoMinorLocator)\n",
    "import matplotlib.patches as mpatches"
   ]
  },
  {
   "cell_type": "markdown",
   "metadata": {},
   "source": [
    "### Load the json file and initialize the model setup"
   ]
  },
  {
   "cell_type": "code",
   "execution_count": 2,
   "metadata": {},
   "outputs": [],
   "source": [
    "json_path = \"./params.json\"\n",
    "params = utils.Params(json_path)\n",
    "model = cm(params.input_size, params.hidden_size, params.output_size, params.n_spatial_dims, params.norm)\n",
    "%matplotlib inline"
   ]
  },
  {
   "cell_type": "code",
   "execution_count": 3,
   "metadata": {},
   "outputs": [],
   "source": [
    "'''Retrieve paths for checkpoints for all alphas in a sorted list'''\n",
    "def load_alpha_path(path):\n",
    "    alpha_path = list(glob(os.path.join(path, 'alpha_*')))\n",
    "    file_paths = []\n",
    "    for idx in range(len(alpha_path)):\n",
    "        file_path = list(glob(os.path.join(str(alpha_path[idx]))))#, 'checkpoints'\n",
    "        if len(file_path)!=1:\n",
    "            raise ValueError(f'File path should receive one element: {file_path}')\n",
    "        file_path = file_path[0]\n",
    "        file_paths.append(file_path)\n",
    "    return file_paths"
   ]
  },
  {
   "cell_type": "code",
   "execution_count": 4,
   "metadata": {},
   "outputs": [],
   "source": [
    "'''Load weight and distance matrix as concatenated lists from the model checkpoint'''\n",
    "def get_wd(model, ckpt_file):\n",
    "    ckpt = utils.load_checkpoint(ckpt_file, model)\n",
    "    weight = []\n",
    "    dist = []\n",
    "    for w, d in zip(model.layers_weight, model.distances):\n",
    "        weight += [torch.flatten(w.data).numpy()]\n",
    "        dist += [torch.flatten(d.data).numpy()]\n",
    "    weight = np.concatenate(weight)\n",
    "    dist = np.concatenate(dist)\n",
    "    return model, weight, dist"
   ]
  },
  {
   "cell_type": "code",
   "execution_count": 6,
   "metadata": {},
   "outputs": [],
   "source": [
    "def load_model_dict(f, key):\n",
    "    plot_dict = dict()\n",
    "    model = cm.NeuralNet(params.input_size, params.hidden_size, params.output_size, params.n_spatial_dims, params.norm)\n",
    "    ckpt, ckpt_model = utils.load_checkpoint(f, model)\n",
    "    dict_list = []\n",
    "    key = str(key)\n",
    "    for k, v in ckpt['state_dict'].items():\n",
    "        if key in k:\n",
    "            dict_list += [torch.flatten(v).numpy()]\n",
    "    plot_dict = np.concatenate(dict_list)\n",
    "    return plot_dict, ckpt"
   ]
  },
  {
   "cell_type": "markdown",
   "metadata": {},
   "source": [
    "<a id=\"wd\"></a>"
   ]
  },
  {
   "cell_type": "markdown",
   "metadata": {},
   "source": [
    "### [Plot weight vs. distance distribution](#wd)\n",
    "Function `plot_w_d` produces a weight vs. distance distribution for the first and the last epochs of the trained model for a specific seed (Relevant to Fig.3.1).\n",
    "\n",
    "Users need to specify the values of alphas to be plotted.\n",
    "\n",
    "Example:   \n",
    "```plot_w_d(44, 1.0)```\n",
    "\n",
    "Output: weight vs. distance distribution for the first and the last epochs in distance-constrained models ($\\alpha \\in \\{0.0, 0.01, 0.05\\}$, seed=44)"
   ]
  },
  {
   "cell_type": "code",
   "execution_count": null,
   "metadata": {
    "scrolled": false
   },
   "outputs": [],
   "source": [
    "def plot_w_d(seed, beta):\n",
    "    # specify which alphas to be printed\n",
    "    alphas = [0.0, 0.01,  0.05]\n",
    "    \n",
    "    n_c = 2\n",
    "    n_r = len(alphas)\n",
    "    fig, axs = plt.subplots(figsize=(8, 10), nrows=n_r, ncols=n_c)\n",
    "    xlim = 5\n",
    "    fig.align_ylabels()\n",
    "    plt.setp(axs, xlim=(0,xlim))\n",
    "    color = 'Blues'\n",
    "    for i, a in zip(range(n_r), alphas):  \n",
    "        init = list(glob(f'./trial{params.trial}/seed{seed}trained_model/alpha_{a}_beta_{beta}/checkpoints/initial.pth'))\n",
    "        last = list(glob(f'./trial{params.trial}/seed{seed}trained_model/alpha_{a}_beta_{beta}/checkpoints/last.pth'))\n",
    "        il = [*zip(init, last)]\n",
    "        di = []\n",
    "        wi = []\n",
    "        dl = []\n",
    "        wl = []\n",
    "        for f1, f2 in il:\n",
    "            for f, d_save, w_save in zip([f1, f2], [di, dl], [wi, wl]):\n",
    "                weight, _ = load_model_dict(f, \"weight\")\n",
    "                dist, _ = load_model_dict(f, \"dist_\")\n",
    "                dist = dist[np.abs(weight) > 0.]\n",
    "                weight = weight[np.abs(weight) > 0.]\n",
    "                d_save.append(dist)\n",
    "                w_save.append(weight)\n",
    "            for ax, d, w, y_lim in zip([axs[i, 0], axs[i, 1]], [di, dl], [wi, wl], [max(max(np.abs(wi))), max(max(np.abs(wl)))]):\n",
    "                hb = ax.hexbin(d, w, gridsize=30, cmap=color, norm=matplotlib.colors.LogNorm(), extent=[0, xlim,-y_lim, y_lim])\n",
    "                ax.set_ylim(-y_lim, y_lim)\n",
    "            axs[i,0].set_ylabel('weight distributions\\nalpha='+f'{a}', multialignment='center', fontsize='large')#, fontweight='bold')\n",
    "    \n",
    "    cax = fig.add_axes([0.92, 0.1, 0.03, 0.8])\n",
    "    cb = fig.colorbar(hb, cax=cax)\n",
    "#     c|b.set_label('log10(N)')\n",
    "    axs[0,0].set_title('first epoch', fontsize='large')#, fontweight='bold')\n",
    "    axs[0,1].set_title('last epoch', fontsize='large')#, fontweight='bold')\n",
    "    axs[n_r-1,0].set_xlabel('internodal distance', fontsize='large')#, fontweight='bold')\n",
    "    axs[n_r-1,1].set_xlabel('internodal distance', fontsize='large')#, fontweight='bold')\n",
    "    \n",
    "    fig.savefig(f'trial{params.trial}seed{seed}_{beta}_distance_weight.png', dpi=600, bbox_inches='tight')\n"
   ]
  },
  {
   "cell_type": "markdown",
   "metadata": {},
   "source": [
    "<a id=\"acc\"></a>"
   ]
  },
  {
   "cell_type": "markdown",
   "metadata": {},
   "source": [
    "### [Accuracy of FCNN models with a Kolmogorov–Smirnov test for statistical analysis](#acc)\n",
    "This plot produces the median of the model's accuracy from all experiments for each alpha value\n",
    "(relevant to Fig. 3.2)."
   ]
  },
  {
   "cell_type": "code",
   "execution_count": 7,
   "metadata": {},
   "outputs": [],
   "source": [
    "def ks_test(a, b, thres=0.05):\n",
    "    d, p = stats.ks_2samp(a, b)\n",
    "    return d, p, p < thres"
   ]
  },
  {
   "cell_type": "code",
   "execution_count": 14,
   "metadata": {
    "scrolled": true
   },
   "outputs": [
    {
     "name": "stdout",
     "output_type": "stream",
     "text": [
      "D-stat is 0.4, p-value is 0.3128526760169558\n",
      "D-stat is 0.8, p-value is 0.0012162112998959323\n",
      "D-stat is 0.8, p-value is 0.0012162112998959323\n",
      "D-stat is 0.6000000000000001, p-value is 0.031046781145641307\n",
      "D-stat is 0.4, p-value is 0.3128526760169558\n",
      "D-stat is 0.6, p-value is 0.031046781145641363\n",
      "D-stat is 0.8, p-value is 0.0012162112998959323\n",
      "D-stat is 0.9, p-value is 0.00017011925273829754\n"
     ]
    },
    {
     "data": {
      "image/png": "[encoded data removed]",
      "text/plain": [
       "<Figure size 720x432 with 1 Axes>"
      ]
     },
     "metadata": {
      "needs_background": "light"
     },
     "output_type": "display_data"
    }
   ],
   "source": [
    "def plot_acc(trial=params.trial):\n",
    "    betas = [0.0, 1.0]\n",
    "    label = [f'L{params.norm} Regularization', 'Distance Constrained']\n",
    "    colors = ['lightblue', 'orange']\n",
    "    # specify alphas values to be checked\n",
    "    alphas = np.arange(0.0, 0.08, 0.01)\n",
    "    \n",
    "    pos_a = [0.5+i*1.5 for i in range(len(alphas))]\n",
    "    pos_b = [a+0.5 for a in pos_a]\n",
    "    x_t = [a+0.5/2 for a in pos_a]\n",
    "    position = [pos_a, pos_b]\n",
    "    x_ticks = [str(a) for a in alphas]\n",
    "    \n",
    "    fig, ax = plt.subplots(figsize=(10,6))\n",
    "    \n",
    "    def add_label(violin, label):\n",
    "        color = violin[\"bodies\"][0].get_facecolor().flatten()\n",
    "        labels.append((mpatches.Patch(color=color), label))\n",
    "    labels = []\n",
    "    l_acc = []\n",
    "    d_acc = []\n",
    "    for beta, color, l, pos, accs in zip(betas, colors, label, position, [l_acc, d_acc]):\n",
    "        stdev = []\n",
    "        for alpha in alphas:\n",
    "            alpha = round(alpha, 5)\n",
    "            files = list(glob(f'./trial{trial}/seed*trained_model/alpha_{alpha}_beta_{beta}/checkpoints/last.pth'))\n",
    "            def avg(files):\n",
    "                accs = []\n",
    "                for f in files:\n",
    "                    ckpt = torch.load(f, map_location='cpu')\n",
    "                    acc = ckpt['accuracy']\n",
    "                    accs.append(acc)\n",
    "                return accs\n",
    "            acc = avg(files)\n",
    "            accs.append(acc)\n",
    "\n",
    "        vp = ax.violinplot(accs, pos, points=20, widths=0.3, showmeans=False, showmedians=True, showextrema=False)\n",
    "        ax.set_xticks(x_t)\n",
    "        ax.set_xticklabels(x_ticks)\n",
    "        for i, pc in enumerate(vp['bodies']):\n",
    "            pc.set_facecolor(f'{color}')\n",
    "            pc.set_alpha(0.45)\n",
    "        add_label(vp, f'{l}')\n",
    "        quartile1, medians, quartile3 = np.percentile(accs, [25, 50, 75], axis=1)\n",
    "        ax.scatter(pos, medians, marker='D', color=color, s=25, zorder=3)\n",
    "        \n",
    "        base_acc = avg(list(glob(f'./trial{trial}/seed*trained_model/alpha_0.0_beta_{beta}/checkpoints/last.pth')))\n",
    "        ax.axhline(np.mean(base_acc), linestyle='dashed', c=color)\n",
    "    for a, b in zip(l_acc, d_acc):\n",
    "        d, p, pv = ks_test(a, b)\n",
    "        print(f'D-stat is {d}, p-value is {p}')\n",
    "        \n",
    "    ax.set(xlabel=r\"$\\alpha$\", ylabel='Accuracy (%)')\n",
    "    plt.legend(*zip(*labels), loc=0)\n",
    "    plt.show()\n",
    "    fig.savefig(f'trial_{trial}_acc.png', dpi=300, bbox_inches='tight')"
   ]
  },
  {
   "cell_type": "markdown",
   "metadata": {},
   "source": [
    "<a id=\"conn\"></a>"
   ]
  },
  {
   "cell_type": "markdown",
   "metadata": {},
   "source": [
    "### [Plot the number of connections over distances](#conn)\n",
    "Relevant to Fig. A.5\n",
    "\n",
    "`plot_dist_conn_hres(5e-05, params)` produces the distribution of connections over internodal distance for $\\alpha=5e-05$.    \n",
    "\n",
    "`plot_dist_conn(5e-05, params)` produces the connectivity distribution of each range of distance for $\\alpha=5e-05$."
   ]
  },
  {
   "cell_type": "code",
   "execution_count": 10,
   "metadata": {
    "scrolled": false
   },
   "outputs": [
    {
     "data": {
      "image/png": "[encoded data removed]",
      "text/plain": [
       "<Figure size 720x504 with 1 Axes>"
      ]
     },
     "metadata": {
      "needs_background": "light"
     },
     "output_type": "display_data"
    }
   ],
   "source": [
    "def plot_dist_conn_hres(alpha, hps, threshold=0.):\n",
    "    files_seed = [np.sort(list(glob(f'./trial{params.trial}/seed*trained_model/alpha_{alpha}_beta_0.0/checkpoints/last.pth'))).tolist(),\n",
    "                  np.sort(list(glob(f'./trial{params.trial}/seed*trained_model/alpha_{alpha}_beta_1.0/checkpoints/last.pth'))).tolist()]\n",
    "    files = [*zip(files_seed[0], files_seed[1])]\n",
    "    bins=50\n",
    "    hist_f1 = []\n",
    "    hist_f2 = []\n",
    "    dist_f1 = []\n",
    "    dist_f2 = []\n",
    "    fig, ax = plt.subplots(figsize=(10, 7))\n",
    "    for f1, f2 in files:\n",
    "        for f, hist_save, dist_save in zip([f1, f2], [hist_f1, hist_f2], [dist_f1, dist_f2]):\n",
    "            weight, _ = load_model_dict(f, \"weight\")\n",
    "            dist, _ = load_model_dict(f, \"dist_\")\n",
    "            h_d = dist[np.abs(weight) > threshold]\n",
    "            h_d = h_d[h_d != 0.]\n",
    "            dist_save.append(h_d.mean())\n",
    "            hist_save += [*h_d]\n",
    "    dist_f1 = np.average(dist_f1)\n",
    "    dist_f2 = np.average(dist_f2)\n",
    "    \n",
    "    for hist, d_mean, beta, color in zip([hist_f1,hist_f2], [dist_f1, dist_f2], [f'L{params.norm} Regularization', 'Distance Constrained',], ['lightblue', 'orange']):\n",
    "        ax.hist(hist, bins=bins, label=f'{beta}', color=color, alpha=0.8)\n",
    "        ax.axvline(d_mean, linestyle='dashed', c=color)\n",
    "\n",
    "    ax.set(title=f'Averaged Distance Distributions vs. #Connections (a={alpha})', \n",
    "           ylabel='#Connections', xlabel='Distance Distribution')\n",
    "    ax.set_xlim([0, 5])\n",
    "    ax.legend()\n",
    "    plt.show()\n",
    "    fig.savefig(f'trial{params.trial}_averaged_dc.png', dpi=400, bbox_inches='tight')\n"
   ]
  },
  {
   "cell_type": "code",
   "execution_count": 11,
   "metadata": {},
   "outputs": [],
   "source": [
    "def plot_dist_conn(alpha, hps, threshold=0.):\n",
    "    files_seed = [np.sort(list(glob(f'./trial{params.trial}/seed*trained_model/alpha_{alpha}_beta_0.0/checkpoints/last.pth'))).tolist(),\n",
    "                  np.sort(list(glob(f'./trial{params.trial}/seed*trained_model/alpha_{alpha}_beta_1.0/checkpoints/last.pth'))).tolist()]\n",
    "    files = [*zip(files_seed[0], files_seed[1])]\n",
    "    \n",
    "    width = 0.5\n",
    "    bins = np.arange(0,3.,width)\n",
    "    x_bar = (bins[1:] - bins[:-1]) / 2 + bins[:-1]\n",
    "    x_ticks = ['D1', 'D2', 'D3', 'D4', 'D5']\n",
    "    hist_f1 = []\n",
    "    hist_f2 = []\n",
    "    dist_f1 = []\n",
    "    dist_f2 = []\n",
    "    fig, ax = plt.subplots(figsize=(10, 7))\n",
    "    for f1, f2 in files:\n",
    "        for f, hist_save, dist_save in zip([f1, f2], [hist_f1, hist_f2], [dist_f1, dist_f2]):\n",
    "            weight, _ = load_model_dict(f, \"weight\")\n",
    "            dist, _ = load_model_dict(f, \"dist_\")\n",
    "            h_d = dist[np.abs(weight) > threshold]\n",
    "            h_d = h_d[h_d != 0.]\n",
    "            dist_save.append(h_d.mean())\n",
    "            \n",
    "            # This outputs the histogram of the distance of nodes which have connections, \n",
    "            # and contains the number of samples in each bin; if density is set to be \"True\", the the result is a pdf\n",
    "            counts, edges = np.histogram(h_d, bins=bins, density=False)\n",
    "            \n",
    "            hist_save.append(counts)\n",
    "    dist_f1 = np.median(dist_f1)\n",
    "    dist_f2 = np.median(dist_f2)\n",
    "    hist_f1 = np.median(np.stack(hist_f1), axis=0)\n",
    "    hist_f2 = np.median(np.stack(hist_f2), axis=0)\n",
    "    labels = [f'L{params.norm} Regularization', 'Distance Constrained']\n",
    "    for hist, d_mean, label, color in zip([hist_f1,hist_f2], [dist_f1, dist_f2], labels, ['lightblue', 'orange']):\n",
    "        ax.bar(x_bar, hist, width=width, label=f'{label}', color=color, alpha=0.8)\n",
    "        ax.axvline(d_mean, linestyle='dashed', c=color)\n",
    "\n",
    "    ax.set(title=f'Levels of distance vs. #Connections (a={alpha})', \n",
    "           ylabel='#Connections', xlabel='Distance Distribution')\n",
    "    ax.set_xlim([0, 2.5])\n",
    "    ax.set_ylim([0, max(max(hist_f1), max(hist_f2))+0.1])\n",
    "    ax.set_xticks(x_bar)\n",
    "    ax.set_xticklabels(x_ticks)\n",
    "\n",
    "    ax.legend()\n",
    "    plt.show()\n",
    "    fig.savefig(f'trial{params.trial}_alpha{alpha}_averaged_leveldis_conn.png', bbox_inches='tight')"
   ]
  }
 ],
 "metadata": {
  "kernelspec": {
   "display_name": "Python 3",
   "language": "python",
   "name": "python3"
  },
  "language_info": {
   "codemirror_mode": {
    "name": "ipython",
    "version": 3
   },
   "file_extension": ".py",
   "mimetype": "text/x-python",
   "name": "python",
   "nbconvert_exporter": "python",
   "pygments_lexer": "ipython3",
   "version": "3.7.1"
  }
 },
 "nbformat": 4,
 "nbformat_minor": 2
}
